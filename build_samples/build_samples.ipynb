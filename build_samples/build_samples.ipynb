{
 "cells": [
  {
   "cell_type": "code",
   "execution_count": 3,
   "metadata": {},
   "outputs": [],
   "source": [
    "import pandas as pd\n",
    "import numpy as np\n",
    "from numpy import matlib\n",
    "\n",
    "# number_of_generating_samples: 生成するサンプル数\n",
    "# desired_sum_of_components = 1 合計を指定する特徴量がある場合の、合計の値。例えば、この値を 100 にすれば、合計を 100 にできます\n",
    "# setting_of_generation_path: 最大値,最小値,グループ番号,有効数字が入ったcsvファイルのpathを指定\n",
    "\n",
    "\n",
    "# 実験候補の生成\n",
    "def build_samples(number_of_generating_samples, desired_sum_of_components, setting_of_generation_path):\n",
    "    setting_of_generation = pd.read_csv(\n",
    "        setting_of_generation_path, index_col=0, header=0)\n",
    "\n",
    "    # 0 から 1 の間の一様乱数でサンプル生成\n",
    "    x_generated = np.random.rand(\n",
    "        number_of_generating_samples, setting_of_generation.shape[1])\n",
    "\n",
    "    # 　上限・下限の設定\n",
    "    x_upper = setting_of_generation.iloc[0, :]  # 上限値\n",
    "    x_lower = setting_of_generation.iloc[1, :]  # 下限値\n",
    "    x_generated = x_generated * \\\n",
    "        (x_upper.values - x_lower.values) + x_lower.values  # 上限値から下限値までの間に変換\n",
    "\n",
    "    # 合計を desired_sum_of_components にする特徴量がある場合\n",
    "    if setting_of_generation.iloc[2, :].sum() != 0:\n",
    "        for group_number in range(1, int(setting_of_generation.iloc[2, :].max()) + 1):\n",
    "            # グループ番号が group_number の特徴量のインデックスを取得\n",
    "            variable_numbers = np.where(\n",
    "                setting_of_generation.iloc[2, :] == group_number)[0]\n",
    "\n",
    "            # 乱数で生成した時の合計を計算 [1.59581414 1.48368493 ...  ]\n",
    "            actual_sum_of_components = x_generated[:, variable_numbers].sum(\n",
    "                axis=1)\n",
    "\n",
    "            # 合計を[[1.59581414 1.59581414 1.59581414] [1.4836 1.4836 1.4836]...]の形に変換\n",
    "            actual_sum_of_components_converted = np.matlib.repmat(np.reshape(\n",
    "                actual_sum_of_components, (x_generated.shape[0], 1)), 1, len(variable_numbers))\n",
    "\n",
    "            x_generated[:, variable_numbers] = x_generated[:, variable_numbers] / \\\n",
    "                actual_sum_of_components_converted * desired_sum_of_components\n",
    "            deleting_sample_numbers, _ = np.where(x_generated > x_upper.values)\n",
    "            x_generated = np.delete(\n",
    "                x_generated, deleting_sample_numbers, axis=0)\n",
    "            deleting_sample_numbers, _ = np.where(x_generated < x_lower.values)\n",
    "            x_generated = np.delete(\n",
    "                x_generated, deleting_sample_numbers, axis=0)\n",
    "\n",
    "    # 数値の丸め込みをする場合\n",
    "    if setting_of_generation.shape[0] >= 4:\n",
    "        for variable_number in range(x_generated.shape[1]):\n",
    "            x_generated[:, variable_number] = np.round(x_generated[:, variable_number], int(\n",
    "                setting_of_generation.iloc[3, variable_number]))\n",
    "\n",
    "    # 保存\n",
    "    x_generated = pd.DataFrame(\n",
    "        x_generated, columns=setting_of_generation.columns)\n",
    "    # 生成したサンプルをcsv ファイルに保存。同じ名前のファイルがあるときは上書きされるため注意\n",
    "    x_generated.to_csv('../data/generated_samples.csv')\n"
   ]
  },
  {
   "cell_type": "code",
   "execution_count": 4,
   "metadata": {},
   "outputs": [],
   "source": [
    "setting_of_generation_path = '../data/setting_of_generation.csv'\n",
    "\n",
    "# 溶液の全量\n",
    "desired_sum_of_components = 1\n",
    "\n",
    "# build_samples(number_of_generating_samples, desired_sum_of_components, setting_of_generation_path):\n",
    "build_samples(10000,desired_sum_of_components,setting_of_generation_path)"
   ]
  },
  {
   "cell_type": "code",
   "execution_count": null,
   "metadata": {},
   "outputs": [],
   "source": []
  }
 ],
 "metadata": {
  "kernelspec": {
   "display_name": "base",
   "language": "python",
   "name": "python3"
  },
  "language_info": {
   "codemirror_mode": {
    "name": "ipython",
    "version": 3
   },
   "file_extension": ".py",
   "mimetype": "text/x-python",
   "name": "python",
   "nbconvert_exporter": "python",
   "pygments_lexer": "ipython3",
   "version": "3.9.13"
  }
 },
 "nbformat": 4,
 "nbformat_minor": 2
}
