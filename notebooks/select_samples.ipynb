{
 "cells": [
  {
   "cell_type": "code",
   "execution_count": 1,
   "metadata": {},
   "outputs": [],
   "source": [
    "import os\n",
    "import sys\n",
    "\n",
    "# 現在のディレクトリを取得\n",
    "current_dir = os.getcwd()\n",
    "\n",
    "# 一つ前のディレクトリを取得(srcディレクトリへのpathを作成するため)\n",
    "project_dir = os.path.dirname(current_dir)\n",
    "\n",
    "# 'src'ディレクトリへのパスを作成\n",
    "src_dir = os.path.join(project_dir, 'src')\n",
    "\n",
    "# 'src'ディレクトリのpathをPythonのパスに追加\n",
    "sys.path.append(src_dir)"
   ]
  },
  {
   "cell_type": "code",
   "execution_count": 2,
   "metadata": {},
   "outputs": [
    {
     "name": "stdout",
     "output_type": "stream",
     "text": [
      "                raw material 1  raw material 2  raw material 3  temperature  \\\n",
      "raw material 1        1.000000       -0.464231       -0.648151    -0.242986   \n",
      "raw material 2       -0.464231        1.000000       -0.373109     0.072456   \n",
      "raw material 3       -0.648151       -0.373109        1.000000     0.186071   \n",
      "temperature          -0.242986        0.072456        0.186071     1.000000   \n",
      "time                  0.010159        0.004068       -0.011604    -0.052035   \n",
      "\n",
      "                    time  \n",
      "raw material 1  0.010159  \n",
      "raw material 2  0.004068  \n",
      "raw material 3 -0.011604  \n",
      "temperature    -0.052035  \n",
      "time            1.000000  \n"
     ]
    }
   ],
   "source": [
    "from samples import select_samples\n",
    "import pandas as pd\n",
    "\n",
    "generated_samples_path = '../data/candidate/generated_samples.csv'\n",
    "\n",
    "select_samples(30,1000,generated_samples_path)"
   ]
  },
  {
   "cell_type": "code",
   "execution_count": null,
   "metadata": {},
   "outputs": [],
   "source": []
  }
 ],
 "metadata": {
  "kernelspec": {
   "display_name": "base",
   "language": "python",
   "name": "python3"
  },
  "language_info": {
   "codemirror_mode": {
    "name": "ipython",
    "version": 3
   },
   "file_extension": ".py",
   "mimetype": "text/x-python",
   "name": "python",
   "nbconvert_exporter": "python",
   "pygments_lexer": "ipython3",
   "version": "3.9.13"
  },
  "orig_nbformat": 4
 },
 "nbformat": 4,
 "nbformat_minor": 2
}
