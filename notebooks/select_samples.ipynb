{
 "cells": [
  {
   "cell_type": "code",
   "execution_count": 1,
   "metadata": {},
   "outputs": [],
   "source": [
    "import os\n",
    "import sys\n",
    "\n",
    "# 現在のディレクトリを取得\n",
    "current_dir = os.getcwd()\n",
    "\n",
    "# 一つ前のディレクトリを取得(srcディレクトリへのpathを作成するため)\n",
    "project_dir = os.path.dirname(current_dir)\n",
    "\n",
    "# 'src'ディレクトリへのパスを作成\n",
    "src_dir = os.path.join(project_dir, 'src')\n",
    "\n",
    "# 'src'ディレクトリのpathをPythonのパスに追加\n",
    "sys.path.append(src_dir)"
   ]
  },
  {
   "cell_type": "code",
   "execution_count": 3,
   "metadata": {},
   "outputs": [
    {
     "name": "stdout",
     "output_type": "stream",
     "text": [
      "              Mg (mM)    K (mM)  アミノ酸 (mM)  スペルミジン (mM)  NTP (mM)     3-PGÅ\n",
      "Mg (mM)      1.000000  0.127784   0.090758     0.061884  0.081489  0.153144\n",
      "K (mM)       0.127784  1.000000  -0.174081     0.080986  0.093475  0.203837\n",
      "アミノ酸 (mM)    0.090758 -0.174081   1.000000    -0.123475  0.171114 -0.191199\n",
      "スペルミジン (mM)  0.061884  0.080986  -0.123475     1.000000  0.123343  0.096768\n",
      "NTP (mM)     0.081489  0.093475   0.171114     0.123343  1.000000 -0.085687\n",
      "3-PGÅ        0.153144  0.203837  -0.191199     0.096768 -0.085687  1.000000\n"
     ]
    }
   ],
   "source": [
    "from samples import select_samples\n",
    "import pandas as pd\n",
    "\n",
    "generated_samples_path = '../data/candidate/generated_samples.csv'\n",
    "\n",
    "select_samples(30,1000,generated_samples_path)"
   ]
  },
  {
   "cell_type": "code",
   "execution_count": null,
   "metadata": {},
   "outputs": [],
   "source": []
  }
 ],
 "metadata": {
  "kernelspec": {
   "display_name": "base",
   "language": "python",
   "name": "python3"
  },
  "language_info": {
   "codemirror_mode": {
    "name": "ipython",
    "version": 3
   },
   "file_extension": ".py",
   "mimetype": "text/x-python",
   "name": "python",
   "nbconvert_exporter": "python",
   "pygments_lexer": "ipython3",
   "version": "3.9.13"
  },
  "orig_nbformat": 4
 },
 "nbformat": 4,
 "nbformat_minor": 2
}
