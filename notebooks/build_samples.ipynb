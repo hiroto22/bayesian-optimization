{
 "cells": [
  {
   "cell_type": "code",
   "execution_count": 7,
   "metadata": {},
   "outputs": [],
   "source": [
    "import os\n",
    "import sys\n",
    "\n",
    "# 現在のディレクトリを取得\n",
    "current_dir = os.getcwd()\n",
    "\n",
    "# 一つ前のディレクトリを取得(srcディレクトリへのpathを作成するため)\n",
    "project_dir = os.path.dirname(current_dir)\n",
    "\n",
    "# 'src'ディレクトリへのパスを作成\n",
    "src_dir = os.path.join(project_dir, 'src')\n",
    "\n",
    "# 'src'ディレクトリのpathをPythonのパスに追加\n",
    "sys.path.append(src_dir)"
   ]
  },
  {
   "cell_type": "code",
   "execution_count": 9,
   "metadata": {},
   "outputs": [],
   "source": [
    "from samples import build_samples\n",
    "import pandas as pd\n",
    "\n",
    "setting_of_generation_path = '../data/external/setting_of_generation.csv'\n",
    "\n",
    "# 溶液の全量\n",
    "desired_sum_of_components = 1\n",
    "\n",
    "# build_samples(number_of_generating_samples, desired_sum_of_components, setting_of_generation_path):\n",
    "build_samples(10000,desired_sum_of_components,setting_of_generation_path)"
   ]
  },
  {
   "cell_type": "code",
   "execution_count": null,
   "metadata": {},
   "outputs": [],
   "source": []
  }
 ],
 "metadata": {
  "kernelspec": {
   "display_name": "base",
   "language": "python",
   "name": "python3"
  },
  "language_info": {
   "codemirror_mode": {
    "name": "ipython",
    "version": 3
   },
   "file_extension": ".py",
   "mimetype": "text/x-python",
   "name": "python",
   "nbconvert_exporter": "python",
   "pygments_lexer": "ipython3",
   "version": "3.9.13"
  },
  "orig_nbformat": 4
 },
 "nbformat": 4,
 "nbformat_minor": 2
}
