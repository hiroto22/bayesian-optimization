{
 "cells": [
  {
   "cell_type": "code",
   "execution_count": null,
   "metadata": {},
   "outputs": [],
   "source": [
    "AA = {6:1.5,4.15:0.83,0.6:0.15}\n",
    "Mg = {80:8,44:4.4,16:0.8}\n",
    "K = {1600:80,880:44,160:8}\n",
    "SPD ={20:1,11:0.55,2:0.1}\n",
    "NTP = {25:1.25,14:0.7,3:0.15}\n",
    "PGA={600:30,330:16.5,60:3}"
   ]
  }
 ],
 "metadata": {
  "language_info": {
   "name": "python"
  }
 },
 "nbformat": 4,
 "nbformat_minor": 2
}
