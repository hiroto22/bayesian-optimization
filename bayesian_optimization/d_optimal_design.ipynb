{
 "cells": [
  {
   "cell_type": "code",
   "execution_count": 3,
   "metadata": {},
   "outputs": [],
   "source": [
    "import pandas as pd\n",
    "import numpy as np\n",
    "\n",
    "number_of_selecting_samples = 30  # 選択するサンプル数\n",
    "number_of_random_searches = 1000  # ランダムにサンプルを選択して D 最適基準を計算する繰り返し回数\n",
    "\n",
    "x_generated = pd.read_csv('../data/generated_samples.csv', index_col=0, header=0)\n",
    "autoscaled_x_generated = (x_generated - x_generated.mean()) / x_generated.std()\n",
    "\n",
    "# 実験条件の候補のインデックスの作成\n",
    "all_indexes = list(range(x_generated.shape[0]))\n",
    "\n",
    "# D 最適基準に基づくサンプル選択\n",
    "np.random.seed(11) # 乱数を生成するためのシードを固定\n",
    "for random_search_number in range(number_of_random_searches):\n",
    "    # 1. ランダムに候補を選択\n",
    "    new_selected_indexes = np.random.choice(all_indexes, number_of_selecting_samples, replace=False)\n",
    "    new_selected_samples = autoscaled_x_generated.iloc[new_selected_indexes, :]\n",
    "    # 2. D 最適基準を計算\n",
    "    xt_x = np.dot(new_selected_samples.T, new_selected_samples)\n",
    "    d_optimal_value = np.linalg.det(xt_x) \n",
    "    # 3. D 最適基準が前回までの最大値を上回ったら、選択された候補を更新\n",
    "    if random_search_number == 0:\n",
    "        best_d_optimal_value = d_optimal_value.copy()\n",
    "        selected_sample_indexes = new_selected_indexes.copy()\n",
    "    else:\n",
    "        if best_d_optimal_value < d_optimal_value:\n",
    "            best_d_optimal_value = d_optimal_value.copy()\n",
    "            selected_sample_indexes = new_selected_indexes.copy()\n",
    "selected_sample_indexes = list(selected_sample_indexes) # リスト型に変換\n",
    "\n",
    "# 選択されたサンプル、選択されなかったサンプル\n",
    "selected_samples = x_generated.iloc[selected_sample_indexes, :]  # 選択されたサンプル\n",
    "remaining_indexes = np.delete(all_indexes, selected_sample_indexes)  # 選択されなかったサンプルのインデックス\n",
    "remaining_samples = x_generated.iloc[remaining_indexes, :]  # 選択されなかったサンプル\n",
    "\n",
    "# 保存\n",
    "selected_samples.to_csv('../data/next_samples_bo_2023-12-28.csv')  # 選択されたサンプルを csv ファイルに保存。同じ名前のファイルがあるときは上書きされるため注意\n",
    "remaining_samples.to_csv('../data/remaining_samples_1.csv')  # 選択されなかったサンプルを csv ファイルに保存。同じ名前のファイルがあるときは上書きされるため注意\n",
    "\n",
    "# print(selected_samples.corr()) # 相関行列の確認"
   ]
  },
  {
   "cell_type": "code",
   "execution_count": null,
   "metadata": {},
   "outputs": [],
   "source": []
  }
 ],
 "metadata": {
  "kernelspec": {
   "display_name": "base",
   "language": "python",
   "name": "python3"
  },
  "language_info": {
   "codemirror_mode": {
    "name": "ipython",
    "version": 3
   },
   "file_extension": ".py",
   "mimetype": "text/x-python",
   "name": "python",
   "nbconvert_exporter": "python",
   "pygments_lexer": "ipython3",
   "version": "3.9.13"
  }
 },
 "nbformat": 4,
 "nbformat_minor": 2
}
