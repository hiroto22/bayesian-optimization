{
 "cells": [
  {
   "cell_type": "code",
   "execution_count": null,
   "metadata": {},
   "outputs": [],
   "source": [
    "import pandas as pd\n",
    "import matplotlib.pyplot as plt\n",
    "\n",
    "# 実験結果データの読み込み\n",
    "dataset = pd.read_csv('./../data/next_samples_bo_2023-12-07.csv', index_col=0, header=0)\n",
    "\n",
    "# amino_acid = dataset[\"アミノ酸(mM)\"]\n",
    "# plt.hist(amino_acid, bins=20)\n",
    "\n",
    "# mg = dataset[\"Mg (mM)\"]\n",
    "# plt.hist(mg, bins=20)\n",
    "\n",
    "# k = dataset[\"K (mM)\"]\n",
    "# plt.hist(k, bins=20)\n",
    "\n",
    "# spd = dataset[\"スペルミジン (mM)\"]\n",
    "# plt.hist(spd, bins=20)\n",
    "\n",
    "# ntp = dataset[\"NTP (mM)\"]\n",
    "# plt.hist(ntp, bins=20)\n",
    "\n",
    "# pga = dataset[\"3-PGÅ\"]\n",
    "# plt.hist(pga, bins=20)\n"
   ]
  },
  {
   "cell_type": "code",
   "execution_count": null,
   "metadata": {},
   "outputs": [],
   "source": [
    "# 実験結果をbox plotとjitter plotでチェックする\n",
    "\n",
    "import pandas as pd\n",
    "import seaborn as sns\n",
    "import matplotlib.pyplot as plt\n",
    "\n",
    "# 実験結果のCSVファイルを読み込む\n",
    "df = pd.read_csv(\"/Users/yamazakihiroto/Documents/東京農業大学/卒論/bayesian-optimization/data/result.csv\")\n",
    "\n",
    "df = df.drop(\"Unnamed: 0\",axis=1)\n",
    "\n",
    "# データフレームから辞書に変換\n",
    "data_dict = df.to_dict(orient='list')\n",
    "\n",
    "\n",
    "# 特定の化学成分（ここでは\"Mg (mM)\"）に対するボックスプロットとジッタープロット\n",
    "plt.figure(figsize=(10, 6))\n",
    "sns.boxplot(x='アミノ酸(mM)', y='Yield', data=data_dict, color='lightblue', showfliers=False)\n",
    "sns.stripplot(x='アミノ酸(mM)', y='Yield', data=data_dict, color='darkblue', jitter=True)\n",
    "plt.title('Amino Acid (mM)')\n",
    "plt.show()\n",
    "\n",
    "plt.figure(figsize=(10, 6))\n",
    "sns.boxplot(x='Mg (mM)', y='Yield', data=data_dict, color='lightblue', showfliers=False)\n",
    "sns.stripplot(x='Mg (mM)', y='Yield', data=data_dict, color='darkblue', jitter=True)\n",
    "plt.title('Mg (mM)')\n",
    "plt.show()\n",
    "\n",
    "plt.figure(figsize=(10, 6))\n",
    "sns.boxplot(x='K (mM)', y='Yield', data=data_dict, color='lightblue', showfliers=False)\n",
    "sns.stripplot(x='K (mM)', y='Yield', data=data_dict, color='darkblue', jitter=True)\n",
    "plt.title('K (mM)')\n",
    "plt.show()\n",
    "\n",
    "plt.figure(figsize=(10, 6))\n",
    "sns.boxplot(x='スペルミジン (mM)', y='Yield', data=data_dict, color='lightblue', showfliers=False)\n",
    "sns.stripplot(x='スペルミジン (mM)', y='Yield', data=data_dict, color='darkblue', jitter=True)\n",
    "plt.title('Spermidine (mM)')\n",
    "plt.show()\n",
    "\n",
    "plt.figure(figsize=(10, 6))\n",
    "sns.boxplot(x='NTP (mM)', y='Yield', data=data_dict, color='lightblue', showfliers=False)\n",
    "sns.stripplot(x='NTP (mM)', y='Yield', data=data_dict, color='darkblue', jitter=True)\n",
    "plt.title('NTP (mM)')\n",
    "plt.show()\n",
    "\n",
    "plt.figure(figsize=(10, 6))\n",
    "sns.boxplot(x='3-PGÅ', y='Yield', data=data_dict, color='lightblue', showfliers=False)\n",
    "sns.stripplot(x='3-PGÅ', y='Yield', data=data_dict, color='darkblue', jitter=True)\n",
    "plt.title('3-PGÅ')\n",
    "plt.show()"
   ]
  },
  {
   "cell_type": "code",
   "execution_count": 47,
   "metadata": {},
   "outputs": [
    {
     "data": {
      "image/png": "[encoded data removed]",
      "text/plain": [
       "<Figure size 1000x600 with 1 Axes>"
      ]
     },
     "metadata": {},
     "output_type": "display_data"
    }
   ],
   "source": [
    "# 各ラウンドごとの終了データを比較する\n",
    "# 実験結果をbox plotとjitter plotでチェックする\n",
    "\n",
    "import pandas as pd\n",
    "import seaborn as sns\n",
    "import matplotlib.pyplot as plt\n",
    "\n",
    "files = [\n",
    "    \"/Users/yamazakihiroto/Documents/東京農業大学/卒論/bayesian-optimization/data/result_20231026.csv\",\n",
    "    \"/Users/yamazakihiroto/Documents/東京農業大学/卒論/bayesian-optimization/data/result_20231207.csv\"\n",
    "]\n",
    "\n",
    "# 空のデータフレームを作成\n",
    "all_data = pd.DataFrame()\n",
    "\n",
    "# 各ファイルからデータを読み込み、統合する\n",
    "for i, file in enumerate(files):\n",
    "    df = pd.read_csv(file)\n",
    "    df['round'] = f\"{i+1}\"  # 実験の識別子を追加\n",
    "\n",
    "    all_data = pd.concat([all_data, df], ignore_index=True)\n",
    "\n",
    "# 特定の化学成分（ここでは\"Mg (mM)\"）に対するボックスプロットとジッタープロット\n",
    "plt.figure(figsize=(10, 6))\n",
    "sns.boxplot(x='round', y='Yield', data=all_data, color='lightblue', showfliers=False)\n",
    "sns.stripplot(x='round', y='Yield', data=all_data, color='darkblue', jitter=True)\n",
    "plt.show()"
   ]
  },
  {
   "cell_type": "code",
   "execution_count": null,
   "metadata": {},
   "outputs": [],
   "source": []
  },
  {
   "cell_type": "code",
   "execution_count": null,
   "metadata": {},
   "outputs": [],
   "source": []
  }
 ],
 "metadata": {
  "kernelspec": {
   "display_name": "base",
   "language": "python",
   "name": "python3"
  },
  "language_info": {
   "codemirror_mode": {
    "name": "ipython",
    "version": 3
   },
   "file_extension": ".py",
   "mimetype": "text/x-python",
   "name": "python",
   "nbconvert_exporter": "python",
   "pygments_lexer": "ipython3",
   "version": "3.9.13"
  }
 },
 "nbformat": 4,
 "nbformat_minor": 2
}
